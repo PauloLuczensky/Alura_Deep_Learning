{
  "nbformat": 4,
  "nbformat_minor": 0,
  "metadata": {
    "colab": {
      "provenance": []
    },
    "kernelspec": {
      "name": "python3",
      "display_name": "Python 3"
    },
    "language_info": {
      "name": "python"
    }
  },
  "cells": [
    {
      "cell_type": "markdown",
      "source": [
        "# **Criando a Rede**"
      ],
      "metadata": {
        "id": "SjRhj6-xyGPP"
      }
    },
    {
      "cell_type": "code",
      "execution_count": null,
      "metadata": {
        "id": "K36wTuS0T7Tj"
      },
      "outputs": [],
      "source": [
        "import torch\n",
        "from torch import nn"
      ]
    },
    {
      "cell_type": "code",
      "source": [
        "if torch.cuda.is_available():\n",
        "  device = torch.device('cuda')\n",
        "else:\n",
        "  device = torch.device('cpu')\n",
        "\n",
        "print(device)"
      ],
      "metadata": {
        "colab": {
          "base_uri": "https://localhost:8080/"
        },
        "id": "HBRQrppCvG_C",
        "outputId": "7819eb3c-8f71-4401-ae26-e61e870b7829"
      },
      "execution_count": null,
      "outputs": [
        {
          "output_type": "stream",
          "name": "stdout",
          "text": [
            "cpu\n"
          ]
        }
      ]
    },
    {
      "cell_type": "markdown",
      "source": [
        "Trabalhando com dataset de classificação de vinhos"
      ],
      "metadata": {
        "id": "R-XTCmEavhAc"
      }
    },
    {
      "cell_type": "code",
      "source": [
        "from sklearn import datasets\n",
        "\n",
        "wine = datasets.load_wine()\n",
        "data = wine.data\n",
        "target = wine.target\n",
        "\n",
        "#178 amostras com 13 características\n",
        "print(data.shape, target.shape)\n",
        "#13 características, 3 classes\n",
        "print(wine.feature_names, wine.target_names)"
      ],
      "metadata": {
        "colab": {
          "base_uri": "https://localhost:8080/"
        },
        "id": "KRsdvxR2vnng",
        "outputId": "9e59b20a-a4a5-4dc6-f267-b03a78f8178c"
      },
      "execution_count": null,
      "outputs": [
        {
          "output_type": "stream",
          "name": "stdout",
          "text": [
            "(178, 13) (178,)\n",
            "['alcohol', 'malic_acid', 'ash', 'alcalinity_of_ash', 'magnesium', 'total_phenols', 'flavanoids', 'nonflavanoid_phenols', 'proanthocyanins', 'color_intensity', 'hue', 'od280/od315_of_diluted_wines', 'proline'] ['class_0' 'class_1' 'class_2']\n"
          ]
        }
      ]
    },
    {
      "cell_type": "code",
      "source": [
        "class WineClassifier(nn.Module):\n",
        "\n",
        "  def __init__(self, input_size, hidden_size, out_size):\n",
        "    super(WineClassifier, self).__init__()\n",
        "\n",
        "    self.hidden = nn.Linear(input_size, hidden_size)\n",
        "    self.relu   = nn.ReLU()\n",
        "    self.out    = nn.Linear(hidden_size, out_size)\n",
        "    #A softmax é responsável pela distribuição de probabilidades\n",
        "    self.softmax = nn.Softmax()\n",
        "\n",
        "  def forward(self, X):\n",
        "      feature = self.relu(self.hidden(X))\n",
        "      output = self.softmax(self.out(feature))\n",
        "\n",
        "      return output\n",
        "\n",
        "input_size = data.shape[1] #Número de características\n",
        "hidden_size = 32 # 32 neurônios na camada escondida, euq ue decidi o valor\n",
        "out_size = len(wine.target_names) #No caso, serão 3\n",
        "#Criando a rede\n",
        "net = WineClassifier(input_size, hidden_size, out_size).to(device) #cast na GPU"
      ],
      "metadata": {
        "id": "AmMT1EanvoHZ"
      },
      "execution_count": null,
      "outputs": []
    },
    {
      "cell_type": "code",
      "source": [
        "print(net)"
      ],
      "metadata": {
        "colab": {
          "base_uri": "https://localhost:8080/"
        },
        "id": "kNA3RowPvn2x",
        "outputId": "9462af06-260e-4c3e-9e3c-4a4b1638b12b"
      },
      "execution_count": null,
      "outputs": [
        {
          "output_type": "stream",
          "name": "stdout",
          "text": [
            "WineClassifier(\n",
            "  (hidden): Linear(in_features=13, out_features=32, bias=True)\n",
            "  (relu): ReLU()\n",
            "  (out): Linear(in_features=32, out_features=3, bias=True)\n",
            "  (softmax): Softmax(dim=None)\n",
            ")\n"
          ]
        }
      ]
    },
    {
      "cell_type": "markdown",
      "source": [
        "# **Classificação**"
      ],
      "metadata": {
        "id": "DQKd5ZP6yMVU"
      }
    },
    {
      "cell_type": "markdown",
      "source": [
        "Instanciando a Função de Perda. Trata-se de um problema de classificação com 3 classes. Neste caso, a Cross Entropy é a função recomendada, que no Pytorch recebe o nome de *CrossEntropyLoss*"
      ],
      "metadata": {
        "id": "10W2bHmTyi1x"
      }
    },
    {
      "cell_type": "code",
      "source": [
        "criterion = nn.CrossEntropyLoss().to(device) #cast na GPU"
      ],
      "metadata": {
        "id": "D-TnEDBfyQlg"
      },
      "execution_count": null,
      "outputs": []
    },
    {
      "cell_type": "code",
      "source": [
        "#tranformando os dados de arrays do numpy para Tensores\n",
        "#transformanfo o Xtns de float64 para float32\n",
        "Xtns = torch.from_numpy(data).float()\n",
        "Ytns = torch.from_numpy(target)\n",
        "\n",
        "#cast na GPU\n",
        "Xtns = Xtns.to(device)\n",
        "Ytns = Ytns.to(device)\n",
        "\n",
        "print(Xtns.dtype, Ytns.dtype)"
      ],
      "metadata": {
        "colab": {
          "base_uri": "https://localhost:8080/"
        },
        "id": "D4e6Uh7YyRou",
        "outputId": "b4f1252b-0b40-4e80-b916-5cd31ee37f35"
      },
      "execution_count": null,
      "outputs": [
        {
          "output_type": "stream",
          "name": "stdout",
          "text": [
            "torch.float32 torch.int64\n"
          ]
        }
      ]
    },
    {
      "cell_type": "code",
      "source": [
        "#Saída da rede\n",
        "#Exemplo de uma  amostra\n",
        "pred = net(Xtns[0].unsqueeze(0))\n",
        "\n",
        "print(Xtns[0].unsqueeze(0).shape)\n",
        "print(pred.shape)\n",
        "#Previu a classe 1 na saída\n",
        "print(pred)"
      ],
      "metadata": {
        "colab": {
          "base_uri": "https://localhost:8080/"
        },
        "id": "t-lFrD2RyRdW",
        "outputId": "30c312b1-fc55-42ac-c3c0-a483e457f5a3"
      },
      "execution_count": null,
      "outputs": [
        {
          "output_type": "stream",
          "name": "stdout",
          "text": [
            "torch.Size([1, 13])\n",
            "torch.Size([1, 3])\n",
            "tensor([[3.1550e-05, 9.9997e-01, 0.0000e+00]], grad_fn=<SoftmaxBackward0>)\n"
          ]
        },
        {
          "output_type": "stream",
          "name": "stderr",
          "text": [
            "<ipython-input-24-77b5800f2961>:14: UserWarning: Implicit dimension choice for softmax has been deprecated. Change the call to include dim=X as an argument.\n",
            "  output = self.softmax(self.out(feature))\n"
          ]
        }
      ]
    },
    {
      "cell_type": "code",
      "source": [
        "pred = net(Xtns)"
      ],
      "metadata": {
        "colab": {
          "base_uri": "https://localhost:8080/"
        },
        "id": "IrEaFzUOyRS8",
        "outputId": "fad32c41-ee35-47b1-e641-540ab33137b0"
      },
      "execution_count": null,
      "outputs": [
        {
          "output_type": "stream",
          "name": "stderr",
          "text": [
            "<ipython-input-24-77b5800f2961>:14: UserWarning: Implicit dimension choice for softmax has been deprecated. Change the call to include dim=X as an argument.\n",
            "  output = self.softmax(self.out(feature))\n"
          ]
        }
      ]
    },
    {
      "cell_type": "code",
      "source": [
        "print(pred.shape, Ytns.shape)\n",
        "#No pred.shape, número de amostras por número de classes\n",
        "#No Ytns.shape, número de amostras\n",
        "\n",
        "print(pred[0].data, Ytns[0].data)"
      ],
      "metadata": {
        "colab": {
          "base_uri": "https://localhost:8080/"
        },
        "id": "uWTctsoU1jhY",
        "outputId": "440b9054-4450-469e-8e7b-b4ef9442959f"
      },
      "execution_count": null,
      "outputs": [
        {
          "output_type": "stream",
          "name": "stdout",
          "text": [
            "torch.Size([178, 3]) torch.Size([178])\n",
            "tensor([3.1550e-05, 9.9997e-01, 0.0000e+00]) tensor(0)\n"
          ]
        }
      ]
    },
    {
      "cell_type": "code",
      "source": [
        "loss = criterion(pred, Ytns)\n",
        "print(loss)\n",
        "#O loss calcula a perda média entre os valores"
      ],
      "metadata": {
        "colab": {
          "base_uri": "https://localhost:8080/"
        },
        "id": "jXebPoCk1jgE",
        "outputId": "a71dbf3d-b76b-491b-ac94-9ab5109b7a8a"
      },
      "execution_count": null,
      "outputs": [
        {
          "output_type": "stream",
          "name": "stdout",
          "text": [
            "tensor(1.3138, grad_fn=<NllLossBackward0>)\n"
          ]
        }
      ]
    },
    {
      "cell_type": "markdown",
      "source": [
        "# **Regressão**"
      ],
      "metadata": {
        "id": "d8GLR_kG20Sw"
      }
    },
    {
      "cell_type": "markdown",
      "source": [
        "Trabalahndo com o dataset de diabetes"
      ],
      "metadata": {
        "id": "9bTcedtB25MS"
      }
    },
    {
      "cell_type": "code",
      "source": [
        "from sklearn import datasets\n",
        "\n",
        "diabetes = datasets.load_diabetes()\n",
        "data = diabetes.data\n",
        "target = diabetes.target\n",
        "\n",
        "print(data.shape)\n",
        "\n",
        "#442 amostras, com 10 características cada amostra\n",
        "print(data[0], target[0])\n",
        "#442 rótulos, somente 1 saída\n",
        "print(target[0])"
      ],
      "metadata": {
        "colab": {
          "base_uri": "https://localhost:8080/"
        },
        "id": "f7JabcN71jVf",
        "outputId": "ff95080a-38db-49cf-f9e9-6d6be5624a2d"
      },
      "execution_count": null,
      "outputs": [
        {
          "output_type": "stream",
          "name": "stdout",
          "text": [
            "(442, 10)\n",
            "[ 0.03807591  0.05068012  0.06169621  0.02187239 -0.0442235  -0.03482076\n",
            " -0.04340085 -0.00259226  0.01990749 -0.01764613] 151.0\n",
            "151.0\n"
          ]
        }
      ]
    },
    {
      "cell_type": "markdown",
      "source": [
        "Implementando o MLP"
      ],
      "metadata": {
        "id": "Ce9pVQtG3zqx"
      }
    },
    {
      "cell_type": "code",
      "source": [
        "class DiabetesClassifier(nn.Module):\n",
        "\n",
        "  def __init__(self, input_size, hidden_size, out_size):\n",
        "    super(DiabetesClassifier, self).__init__()\n",
        "\n",
        "    self.hidden = nn.Linear(input_size, hidden_size)\n",
        "    self.relu   = nn.ReLU()\n",
        "    self.out    = nn.Linear(hidden_size, out_size)\n",
        "    #A softmax é responsável pela distribuição de probabilidades\n",
        "    self.softmax = nn.Softmax()\n",
        "\n",
        "  def forward(self, X):\n",
        "      feature = self.relu(self.hidden(X))\n",
        "      output = self.softmax(self.out(feature))\n",
        "\n",
        "      return output\n",
        "\n",
        "input_size = data.shape[1] #Número de características\n",
        "hidden_size = 32 # 32 neurônios na camada escondida, euq ue decidi o valor\n",
        "out_size = 1 #progressão da diabetes, 1 neurônio\n",
        "#Criando a rede\n",
        "net = DiabetesClassifier(input_size, hidden_size, out_size).to(device) #cast na GPU"
      ],
      "metadata": {
        "id": "Hx_Wk4CZ3iqb"
      },
      "execution_count": null,
      "outputs": []
    },
    {
      "cell_type": "markdown",
      "source": [
        "Para solucionar problemas de regressão, as funções de perda correspondetes esperam que ambos o rótulo e a predição tenham a mesma dimensionalidade. Não se trata de um problema categórico.\n",
        "\n",
        "\n",
        "Portanto, vamos simular um problema de regressão e aplicar o MSELoss"
      ],
      "metadata": {
        "id": "kp48l3BG49ED"
      }
    },
    {
      "cell_type": "code",
      "source": [
        "criterion = nn.MSELoss().to(device)\n",
        "\n",
        "#Cast na GPU\n",
        "\n",
        "Xtns = torch.from_numpy(data).float().to(device)\n",
        "Ytns = torch.from_numpy(target).float().to(device)\n",
        "\n",
        "print(Xtns.shape)\n",
        "print(Ytns.shape)"
      ],
      "metadata": {
        "colab": {
          "base_uri": "https://localhost:8080/"
        },
        "id": "Bn3Ffmi43ioo",
        "outputId": "f03330bc-fc9b-49f8-d470-c565bf4e84b3"
      },
      "execution_count": null,
      "outputs": [
        {
          "output_type": "stream",
          "name": "stdout",
          "text": [
            "torch.Size([442, 10])\n",
            "torch.Size([442])\n"
          ]
        }
      ]
    },
    {
      "cell_type": "code",
      "source": [
        "pred = net(Xtns)\n",
        "\n",
        "loss = criterion(pred.squeeze(), Ytns)\n",
        "print(loss.data)\n",
        "#media das distancias com base no MSE"
      ],
      "metadata": {
        "colab": {
          "base_uri": "https://localhost:8080/"
        },
        "id": "hoZUHEvr3ij6",
        "outputId": "6c5f8d98-9b64-466f-b32b-5c100b265fa0"
      },
      "execution_count": null,
      "outputs": [
        {
          "output_type": "stream",
          "name": "stdout",
          "text": [
            "tensor(28771.2148)\n"
          ]
        },
        {
          "output_type": "stream",
          "name": "stderr",
          "text": [
            "<ipython-input-43-921ea0c14561>:14: UserWarning: Implicit dimension choice for softmax has been deprecated. Change the call to include dim=X as an argument.\n",
            "  output = self.softmax(self.out(feature))\n"
          ]
        }
      ]
    }
  ]
}