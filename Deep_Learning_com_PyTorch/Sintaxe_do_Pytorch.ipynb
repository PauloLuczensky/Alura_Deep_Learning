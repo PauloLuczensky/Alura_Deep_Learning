{
  "nbformat": 4,
  "nbformat_minor": 0,
  "metadata": {
    "colab": {
      "provenance": []
    },
    "kernelspec": {
      "name": "python3",
      "display_name": "Python 3"
    },
    "language_info": {
      "name": "python"
    }
  },
  "cells": [
    {
      "cell_type": "code",
      "execution_count": null,
      "metadata": {
        "colab": {
          "base_uri": "https://localhost:8080/"
        },
        "id": "qi0BVB6TANR6",
        "outputId": "d3920588-2ffc-4fbb-c169-c99720860d79"
      },
      "outputs": [
        {
          "output_type": "stream",
          "name": "stdout",
          "text": [
            "tensor([[1., 2., 3.],\n",
            "        [4., 5., 6.]])\n",
            "torch.float32\n",
            "tensor([[1., 2., 3.],\n",
            "        [4., 5., 6.]])\n",
            "torch.float32\n",
            "tensor([[1., 2., 3.],\n",
            "        [4., 5., 6.]], dtype=torch.float64)\n",
            "torch.float64\n",
            "tensor([[1, 2, 3],\n",
            "        [4, 5, 6]])\n",
            "torch.int64\n"
          ]
        }
      ],
      "source": [
        "import torch\n",
        "\n",
        "lista = [[1,2,3],\n",
        "         [4,5,6]]\n",
        "\n",
        "tns = torch.Tensor(lista)\n",
        "print(tns)\n",
        "print(tns.dtype)\n",
        "\n",
        "tns = torch.FloatTensor(lista)\n",
        "print(tns)\n",
        "print(tns.dtype)\n",
        "\n",
        "tns = torch.DoubleTensor(lista)\n",
        "print(tns)\n",
        "print(tns.dtype)\n",
        "\n",
        "tns = torch.LongTensor(lista)\n",
        "print(tns)\n",
        "print(tns.dtype)"
      ]
    },
    {
      "cell_type": "markdown",
      "source": [
        "# **Instanciar tensores de outras**"
      ],
      "metadata": {
        "id": "fSmQfvnJO5Hf"
      }
    },
    {
      "cell_type": "markdown",
      "source": [
        "**A partir de arrays Numpy**"
      ],
      "metadata": {
        "id": "PuwtBwZgPEFj"
      }
    },
    {
      "cell_type": "code",
      "source": [
        "import numpy as np\n",
        "\n",
        "arr = np.random.rand(3,4)\n",
        "tns = torch.from_numpy(arr)\n",
        "\n",
        "#Preservando o tipo original dos dados\n",
        "print(arr)\n",
        "print(arr.dtype)\n",
        "\n",
        "print(tns)\n",
        "print(tns.dtype)"
      ],
      "metadata": {
        "colab": {
          "base_uri": "https://localhost:8080/"
        },
        "id": "ZJzqIWT6O41Z",
        "outputId": "c2e25ae7-51ef-49f4-d8ac-6bfa2377da02"
      },
      "execution_count": null,
      "outputs": [
        {
          "output_type": "stream",
          "name": "stdout",
          "text": [
            "[[0.22856708 0.4275819  0.94388055 0.65830439]\n",
            " [0.62689111 0.62190951 0.35257311 0.11266098]\n",
            " [0.07372881 0.51845197 0.31193019 0.24588708]]\n",
            "float64\n",
            "tensor([[0.2286, 0.4276, 0.9439, 0.6583],\n",
            "        [0.6269, 0.6219, 0.3526, 0.1127],\n",
            "        [0.0737, 0.5185, 0.3119, 0.2459]], dtype=torch.float64)\n",
            "torch.float64\n"
          ]
        }
      ]
    },
    {
      "cell_type": "markdown",
      "source": [
        "**Tensores inicializados**\n",
        "\n",
        "Essas funções recebem como parâmetro o tamanho de cada dimensão do  tensor\n",
        "\n",
        "- torch.zeros()\n",
        "\n",
        "- torch.ones()\n",
        "\n",
        "- torch.randn()"
      ],
      "metadata": {
        "id": "PU5S9UTaPnHw"
      }
    },
    {
      "cell_type": "code",
      "source": [
        "tns1 = torch.zeros(4,5)\n",
        "tns2 = torch.ones(2,3)\n",
        "tnsr = torch.randn(3,3)\n",
        "\n",
        "print(tns1)\n",
        "print(tns2)\n",
        "print(tnsr)"
      ],
      "metadata": {
        "colab": {
          "base_uri": "https://localhost:8080/"
        },
        "id": "xv55OhvtP_gw",
        "outputId": "8c8dcec5-43f6-498f-a819-0bc9350e69bf"
      },
      "execution_count": null,
      "outputs": [
        {
          "output_type": "stream",
          "name": "stdout",
          "text": [
            "tensor([[0., 0., 0., 0., 0.],\n",
            "        [0., 0., 0., 0., 0.],\n",
            "        [0., 0., 0., 0., 0.],\n",
            "        [0., 0., 0., 0., 0.]])\n",
            "tensor([[1., 1., 1.],\n",
            "        [1., 1., 1.]])\n",
            "tensor([[ 1.8504,  0.2037,  0.3416],\n",
            "        [-0.7798, -1.4793, -0.7483],\n",
            "        [-0.3860, -0.0956,  1.2539]])\n"
          ]
        }
      ]
    },
    {
      "cell_type": "markdown",
      "source": [
        "**Tensor para array do numpy**"
      ],
      "metadata": {
        "id": "d0iZ5hC9QSj2"
      }
    },
    {
      "cell_type": "code",
      "source": [
        "arr = tns.data.numpy()\n",
        "print(arr)\n",
        "print(arr.dtype)"
      ],
      "metadata": {
        "colab": {
          "base_uri": "https://localhost:8080/"
        },
        "id": "Bk_XLVb5QV-D",
        "outputId": "c939dc84-2109-44e2-9616-6b3e26eb0726"
      },
      "execution_count": null,
      "outputs": [
        {
          "output_type": "stream",
          "name": "stdout",
          "text": [
            "[[0.22856708 0.4275819  0.94388055 0.65830439]\n",
            " [0.62689111 0.62190951 0.35257311 0.11266098]\n",
            " [0.07372881 0.51845197 0.31193019 0.24588708]]\n",
            "float64\n"
          ]
        }
      ]
    },
    {
      "cell_type": "markdown",
      "source": [
        "# **Indexação**"
      ],
      "metadata": {
        "id": "s1KXN0aTQlTo"
      }
    },
    {
      "cell_type": "code",
      "source": [
        "print(tnsr)\n",
        "tnsr[0, 2] = -10\n",
        "\n",
        "print(' ')\n",
        "print(tnsr)\n",
        "\n",
        "#Acessando as linhas 0 e 1\n",
        "print(tnsr[0:2])\n",
        "\n",
        "#Acessando a coluna 2\n",
        "print(tnsr[:, 2])\n",
        "\n",
        "#Acessando um elemento específico\n",
        "print(tnsr[0,2])"
      ],
      "metadata": {
        "colab": {
          "base_uri": "https://localhost:8080/"
        },
        "id": "vZ2muqVUQqs_",
        "outputId": "29a05658-dafe-4525-c675-249c44f5cb46"
      },
      "execution_count": null,
      "outputs": [
        {
          "output_type": "stream",
          "name": "stdout",
          "text": [
            "tensor([[  1.8504,   0.2037, -10.0000],\n",
            "        [ -0.7798,  -1.4793,  -0.7483],\n",
            "        [ -0.3860,  -0.0956,   1.2539]])\n",
            " \n",
            "tensor([[  1.8504,   0.2037, -10.0000],\n",
            "        [ -0.7798,  -1.4793,  -0.7483],\n",
            "        [ -0.3860,  -0.0956,   1.2539]])\n",
            "tensor([[  1.8504,   0.2037, -10.0000],\n",
            "        [ -0.7798,  -1.4793,  -0.7483]])\n",
            "tensor([-10.0000,  -0.7483,   1.2539])\n",
            "tensor(-10.)\n"
          ]
        }
      ]
    },
    {
      "cell_type": "markdown",
      "source": [
        "# **Operações com tensores**"
      ],
      "metadata": {
        "id": "J-vJ4jCBQ4_K"
      }
    },
    {
      "cell_type": "code",
      "source": [
        "tns = tnsr[0:2,:]\n",
        "#Devem ter a mesma direção\n",
        "print(tns)\n",
        "print(tns + tns)\n",
        "\n",
        "print(torch.mm(tns,tns.T))"
      ],
      "metadata": {
        "colab": {
          "base_uri": "https://localhost:8080/"
        },
        "id": "oqxa0tb9Q4mK",
        "outputId": "c7828fd4-be86-4a04-cc13-34c63aae8451"
      },
      "execution_count": null,
      "outputs": [
        {
          "output_type": "stream",
          "name": "stdout",
          "text": [
            "tensor([[  1.8504,   0.2037, -10.0000],\n",
            "        [ -0.7798,  -1.4793,  -0.7483]])\n",
            "tensor([[  3.7008,   0.4075, -20.0000],\n",
            "        [ -1.5597,  -2.9586,  -1.4967]])\n",
            "tensor([[103.4655,   5.7389],\n",
            "        [  5.7389,   3.3565]])\n"
          ]
        }
      ]
    },
    {
      "cell_type": "markdown",
      "source": [
        "# **Função .size() e view()**"
      ],
      "metadata": {
        "id": "V1O2w-j3SkkM"
      }
    },
    {
      "cell_type": "code",
      "source": [
        "tns = torch.randn(2,2,3)\n",
        "print(tns)\n",
        "\n",
        "#Dimensão do tensor\n",
        "print(tns.size())\n",
        "\n",
        "#Redimensionando o tensor\n",
        "print(tns.view(4,3))\n",
        "\n",
        "#Mantendo somente a primeira dimensão\n",
        "print(tns.view(tns.size(0),-1))"
      ],
      "metadata": {
        "colab": {
          "base_uri": "https://localhost:8080/"
        },
        "id": "_bsqzFSnQ4VP",
        "outputId": "4b8793a7-5977-408a-adae-67c38e07c7ea"
      },
      "execution_count": null,
      "outputs": [
        {
          "output_type": "stream",
          "name": "stdout",
          "text": [
            "tensor([[[-0.6371, -0.6412,  0.2289],\n",
            "         [-0.1411,  2.1743, -1.2909]],\n",
            "\n",
            "        [[ 0.2532,  1.3770,  0.2281],\n",
            "         [-0.9224, -1.1945, -0.1884]]])\n",
            "torch.Size([2, 2, 3])\n",
            "tensor([[-0.6371, -0.6412,  0.2289],\n",
            "        [-0.1411,  2.1743, -1.2909],\n",
            "        [ 0.2532,  1.3770,  0.2281],\n",
            "        [-0.9224, -1.1945, -0.1884]])\n",
            "tensor([[-0.6371, -0.6412,  0.2289, -0.1411,  2.1743, -1.2909],\n",
            "        [ 0.2532,  1.3770,  0.2281, -0.9224, -1.1945, -0.1884]])\n"
          ]
        }
      ]
    },
    {
      "cell_type": "markdown",
      "source": [
        "# **GPU**"
      ],
      "metadata": {
        "id": "rFedyECpTqL7"
      }
    },
    {
      "cell_type": "code",
      "source": [
        "import torch\n",
        "\n",
        "tns = torch.randn(10)\n",
        "if torch.cuda.is_available():\n",
        "  device = torch.device('cuda')\n",
        "else:\n",
        "  device = torch.device('cpu')\n",
        "\n",
        "print(device)\n",
        "\n",
        "#Transferindo para a GPU, tenho que modificar nas configurações\n",
        "tns = tns.to(device)\n",
        "print(tns)"
      ],
      "metadata": {
        "colab": {
          "base_uri": "https://localhost:8080/"
        },
        "id": "U_6FzVpTQ4Ix",
        "outputId": "1f3dd106-0b4d-44ae-98d8-1d00daa5092d"
      },
      "execution_count": null,
      "outputs": [
        {
          "output_type": "stream",
          "name": "stdout",
          "text": [
            "cpu\n"
          ]
        }
      ]
    }
  ]
}